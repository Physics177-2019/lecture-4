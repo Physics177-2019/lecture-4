{
  "nbformat": 4,
  "nbformat_minor": 0,
  "metadata": {
    "colab": {
      "name": "lecture-4.ipynb",
      "version": "0.3.2",
      "provenance": []
    },
    "kernelspec": {
      "display_name": "Python 3",
      "language": "python",
      "name": "python3"
    }
  },
  "cells": [
    {
      "metadata": {
        "id": "MBvXTw_HRKaR",
        "colab_type": "code",
        "colab": {
          "base_uri": "https://localhost:8080/",
          "height": 447
        },
        "outputId": "3a7f4fab-f199-43f4-cd0f-25f53085b34f"
      },
      "cell_type": "code",
      "source": [
        "!pip install seaborn --upgrade"
      ],
      "execution_count": 1,
      "outputs": [
        {
          "output_type": "stream",
          "text": [
            "Collecting seaborn\n",
            "\u001b[?25l  Downloading https://files.pythonhosted.org/packages/a8/76/220ba4420459d9c4c9c9587c6ce607bf56c25b3d3d2de62056efe482dadc/seaborn-0.9.0-py3-none-any.whl (208kB)\n",
            "\r\u001b[K    4% |█▋                              | 10kB 18.7MB/s eta 0:00:01\r\u001b[K    9% |███▏                            | 20kB 3.4MB/s eta 0:00:01\r\u001b[K    14% |████▊                           | 30kB 4.9MB/s eta 0:00:01\r\u001b[K    19% |██████▎                         | 40kB 3.1MB/s eta 0:00:01\r\u001b[K    24% |███████▉                        | 51kB 3.8MB/s eta 0:00:01\r\u001b[K    29% |█████████▌                      | 61kB 4.6MB/s eta 0:00:01\r\u001b[K    34% |███████████                     | 71kB 5.2MB/s eta 0:00:01\r\u001b[K    39% |████████████▋                   | 81kB 5.8MB/s eta 0:00:01\r\u001b[K    44% |██████████████▏                 | 92kB 6.5MB/s eta 0:00:01\r\u001b[K    49% |███████████████▊                | 102kB 5.1MB/s eta 0:00:01\r\u001b[K    54% |█████████████████▎              | 112kB 5.1MB/s eta 0:00:01\r\u001b[K    59% |███████████████████             | 122kB 7.0MB/s eta 0:00:01\r\u001b[K    63% |████████████████████▌           | 133kB 6.9MB/s eta 0:00:01\r\u001b[K    68% |██████████████████████          | 143kB 12.6MB/s eta 0:00:01\r\u001b[K    73% |███████████████████████▋        | 153kB 12.8MB/s eta 0:00:01\r\u001b[K    78% |█████████████████████████▏      | 163kB 12.8MB/s eta 0:00:01\r\u001b[K    83% |██████████████████████████▊     | 174kB 12.9MB/s eta 0:00:01\r\u001b[K    88% |████████████████████████████▍   | 184kB 13.0MB/s eta 0:00:01\r\u001b[K    93% |██████████████████████████████  | 194kB 13.0MB/s eta 0:00:01\r\u001b[K    98% |███████████████████████████████▌| 204kB 47.2MB/s eta 0:00:01\r\u001b[K    100% |████████████████████████████████| 215kB 28.3MB/s \n",
            "\u001b[?25hRequirement already satisfied, skipping upgrade: numpy>=1.9.3 in /usr/local/lib/python3.6/dist-packages (from seaborn) (1.14.6)\n",
            "Requirement already satisfied, skipping upgrade: matplotlib>=1.4.3 in /usr/local/lib/python3.6/dist-packages (from seaborn) (3.0.2)\n",
            "Requirement already satisfied, skipping upgrade: scipy>=0.14.0 in /usr/local/lib/python3.6/dist-packages (from seaborn) (1.1.0)\n",
            "Requirement already satisfied, skipping upgrade: pandas>=0.15.2 in /usr/local/lib/python3.6/dist-packages (from seaborn) (0.22.0)\n",
            "Requirement already satisfied, skipping upgrade: python-dateutil>=2.1 in /usr/local/lib/python3.6/dist-packages (from matplotlib>=1.4.3->seaborn) (2.5.3)\n",
            "Requirement already satisfied, skipping upgrade: pyparsing!=2.0.4,!=2.1.2,!=2.1.6,>=2.0.1 in /usr/local/lib/python3.6/dist-packages (from matplotlib>=1.4.3->seaborn) (2.3.1)\n",
            "Requirement already satisfied, skipping upgrade: kiwisolver>=1.0.1 in /usr/local/lib/python3.6/dist-packages (from matplotlib>=1.4.3->seaborn) (1.0.1)\n",
            "Requirement already satisfied, skipping upgrade: cycler>=0.10 in /usr/local/lib/python3.6/dist-packages (from matplotlib>=1.4.3->seaborn) (0.10.0)\n",
            "Requirement already satisfied, skipping upgrade: pytz>=2011k in /usr/local/lib/python3.6/dist-packages (from pandas>=0.15.2->seaborn) (2018.9)\n",
            "Requirement already satisfied, skipping upgrade: six>=1.5 in /usr/local/lib/python3.6/dist-packages (from python-dateutil>=2.1->matplotlib>=1.4.3->seaborn) (1.11.0)\n",
            "Requirement already satisfied, skipping upgrade: setuptools in /usr/local/lib/python3.6/dist-packages (from kiwisolver>=1.0.1->matplotlib>=1.4.3->seaborn) (40.6.3)\n",
            "Installing collected packages: seaborn\n",
            "  Found existing installation: seaborn 0.7.1\n",
            "    Uninstalling seaborn-0.7.1:\n",
            "      Successfully uninstalled seaborn-0.7.1\n",
            "Successfully installed seaborn-0.9.0\n",
            "\u001b[0;31;1mWARNING: The following packages were previously imported in this runtime:\n",
            "  [seaborn]\n",
            "You must restart the runtime in order to use newly installed versions.\u001b[0m\n"
          ],
          "name": "stdout"
        }
      ]
    },
    {
      "metadata": {
        "id": "M0V6AvJARKaX",
        "colab_type": "text"
      },
      "cell_type": "markdown",
      "source": [
        "# Lecture 4: Simpson's rule\n",
        "\n",
        "Last time we made a function that could integrate functions using the trapezoidal rule. This time, let's start by doing the same thing using Simpson's rule."
      ]
    },
    {
      "metadata": {
        "id": "U5GJuFLnRKaZ",
        "colab_type": "code",
        "colab": {}
      },
      "cell_type": "code",
      "source": [
        "# Define the function\n",
        "def integrate_simpson(f, a, b, n_points):\n",
        "  \"\"\" Simpson's rule integration. \"\"\"\n",
        "\n",
        "  # Set out the list of points\n",
        "    \n",
        "  dx = (b - a) / float(n_points)\n",
        "    \n",
        "  # Remember: the number of points needs to be even! How can we ensure this?\n",
        "\n",
        "  if n_points%2!=0:\n",
        "    n_points = n_points + 1\n",
        "    dx = (b - a) / float(n_points)\n",
        "    print('Uneven number of steps')\n",
        "\n",
        "  # Perform the sum\n",
        "\n",
        "  total = 0\n",
        "\n",
        "  for i in range(1, n_points, 2):\n",
        "    total += dx * (f(a + dx*(i-1)) + 4*f(a+ dx*i) + f(a+dx*(i+1)) ) / 3\n",
        "\n",
        "  # Return the result\n",
        "\n",
        "  return total"
      ],
      "execution_count": 0,
      "outputs": []
    },
    {
      "metadata": {
        "id": "FGNPbYCmRKac",
        "colab_type": "code",
        "colab": {
          "base_uri": "https://localhost:8080/",
          "height": 35
        },
        "outputId": "68e15275-3554-4251-c3e0-160891cec1ee"
      },
      "cell_type": "code",
      "source": [
        "def func(x):\n",
        "  return 3*x**2\n",
        "\n",
        "integrate_simpson(func, 0, 1, 10)"
      ],
      "execution_count": 8,
      "outputs": [
        {
          "output_type": "execute_result",
          "data": {
            "text/plain": [
              "1.0000000000000002"
            ]
          },
          "metadata": {
            "tags": []
          },
          "execution_count": 8
        }
      ]
    },
    {
      "metadata": {
        "id": "SE9CgeXfRKaf",
        "colab_type": "code",
        "colab": {}
      },
      "cell_type": "code",
      "source": [
        ""
      ],
      "execution_count": 0,
      "outputs": []
    },
    {
      "metadata": {
        "id": "tXa2rD4IRKah",
        "colab_type": "code",
        "colab": {}
      },
      "cell_type": "code",
      "source": [
        "\n",
        "\n",
        "\n",
        "\n",
        "\n",
        "\n",
        "\n",
        "\n",
        "\n",
        "\n",
        "\n",
        "\n",
        "\n",
        "\n",
        "\n",
        "\n",
        "\n",
        "\n",
        "\n",
        "\n",
        "\n",
        "\n"
      ],
      "execution_count": 0,
      "outputs": []
    },
    {
      "metadata": {
        "id": "1vbr5DyXRKak",
        "colab_type": "text"
      },
      "cell_type": "markdown",
      "source": [
        "We'll compare our results with an integrator that uses the trapezoidal rule. I've already written the code below. Here I'm using `numpy` functions for convenience (and speed). We can investigate what unfamiliar functions do using the builtin `help()` function."
      ]
    },
    {
      "metadata": {
        "id": "tKq5lEX5RKam",
        "colab_type": "code",
        "colab": {}
      },
      "cell_type": "code",
      "source": [
        "import numpy as np\n",
        "\n",
        "def integrate_trapezoidal(f, a, b, n_points=100):\n",
        "    \"\"\" \n",
        "    Perform integration using the trapezoidal rule and return the result.\n",
        "    \n",
        "    Parameters\n",
        "    ----------\n",
        "    f : univariate function\n",
        "        The function to be integrated. Input should be one real-valued number.\n",
        "    a : number\n",
        "        The lower limit of integration.\n",
        "    b : number\n",
        "        The upper limit of integration.\n",
        "    n_points : number, optional\n",
        "        The number of subdivisions of the integration space to use. The default\n",
        "        number of subdivisions is 100.\n",
        "        \n",
        "    Returns\n",
        "    -------\n",
        "    total : number\n",
        "        The estimated integral.\n",
        "    \"\"\"\n",
        "    \n",
        "    dx = (b - a) / float(n_points)  # this is the spacing between points\n",
        "    \n",
        "    sample_points = np.arange(a, b, dx)  # set out the sample points evenly\n",
        "    \n",
        "    total = np.sum(f(sample_points) + f(sample_points + dx)) * dx / 2  # perform the sum\n",
        "    \n",
        "    return total  # and return it!"
      ],
      "execution_count": 0,
      "outputs": []
    },
    {
      "metadata": {
        "id": "eEUSf4w_RKap",
        "colab_type": "code",
        "colab": {
          "base_uri": "https://localhost:8080/",
          "height": 427
        },
        "outputId": "50c0c789-7c7b-46b8-851e-034c72aebb2a"
      },
      "cell_type": "code",
      "source": [
        "help(integrate_trapezoidal)"
      ],
      "execution_count": 11,
      "outputs": [
        {
          "output_type": "stream",
          "text": [
            "Help on function integrate_trapezoidal in module __main__:\n",
            "\n",
            "integrate_trapezoidal(f, a, b, n_points=100)\n",
            "    Perform integration using the trapezoidal rule and return the result.\n",
            "    \n",
            "    Parameters\n",
            "    ----------\n",
            "    f : univariate function\n",
            "        The function to be integrated. Input should be one real-valued number.\n",
            "    a : number\n",
            "        The lower limit of integration.\n",
            "    b : number\n",
            "        The upper limit of integration.\n",
            "    n_points : number, optional\n",
            "        The number of subdivisions of the integration space to use. The default\n",
            "        number of subdivisions is 100.\n",
            "        \n",
            "    Returns\n",
            "    -------\n",
            "    total : number\n",
            "        The estimated integral.\n",
            "\n"
          ],
          "name": "stdout"
        }
      ]
    },
    {
      "metadata": {
        "id": "wP-Y0KbiRKar",
        "colab_type": "text"
      },
      "cell_type": "markdown",
      "source": [
        "Let's test these integrators on our function from yesterday, \n",
        "\n",
        "$$ f(x) = e^{-x^2}\\,. $$\n",
        "\n",
        "Integrating this from zero to one gives approximately 0.746824."
      ]
    },
    {
      "metadata": {
        "id": "wW7x4Hp3RKas",
        "colab_type": "code",
        "colab": {}
      },
      "cell_type": "code",
      "source": [
        "def func(x):\n",
        "    return np.exp(-x**2)"
      ],
      "execution_count": 0,
      "outputs": []
    },
    {
      "metadata": {
        "id": "s6oAMlAjRKav",
        "colab_type": "code",
        "colab": {
          "base_uri": "https://localhost:8080/",
          "height": 54
        },
        "outputId": "1b956161-5291-4e78-e758-504616f15e08"
      },
      "cell_type": "code",
      "source": [
        "print(integrate_trapezoidal(func, 0, 1))\n",
        "print(integrate_simpson(func, 0, 1, 100))"
      ],
      "execution_count": 13,
      "outputs": [
        {
          "output_type": "stream",
          "text": [
            "0.74681800146797\n",
            "0.746824132894176\n"
          ],
          "name": "stdout"
        }
      ]
    },
    {
      "metadata": {
        "id": "kQo5wVXbRKay",
        "colab_type": "code",
        "colab": {}
      },
      "cell_type": "code",
      "source": [
        "\n",
        "\n",
        "\n",
        "\n",
        "\n",
        "\n",
        "\n",
        "\n",
        "\n",
        "\n",
        "\n",
        "\n",
        "\n",
        "\n",
        "\n",
        "\n",
        "\n",
        "\n",
        "\n",
        "\n",
        "\n",
        "\n"
      ],
      "execution_count": 0,
      "outputs": []
    },
    {
      "metadata": {
        "id": "fHOBInTIRKa2",
        "colab_type": "text"
      },
      "cell_type": "markdown",
      "source": [
        "**Aside:** these functions are starting to have a lot of arguments, do we really need to remember the exact order? *No*, as long as we know the name of the variable we're assigning. See the example below."
      ]
    },
    {
      "metadata": {
        "id": "pNAE3x0tRKa3",
        "colab_type": "code",
        "colab": {
          "base_uri": "https://localhost:8080/",
          "height": 54
        },
        "outputId": "23620a33-a15b-49f5-c9a3-7e9511752527"
      },
      "cell_type": "code",
      "source": [
        "print(integrate_trapezoidal(func,   0,   1))\n",
        "print(integrate_trapezoidal(func, b=1, a=0))"
      ],
      "execution_count": 14,
      "outputs": [
        {
          "output_type": "stream",
          "text": [
            "0.74681800146797\n",
            "0.74681800146797\n"
          ],
          "name": "stdout"
        }
      ]
    },
    {
      "metadata": {
        "id": "pabGEVOJRKa6",
        "colab_type": "code",
        "colab": {}
      },
      "cell_type": "code",
      "source": [
        "\n",
        "\n",
        "\n",
        "\n",
        "\n",
        "\n",
        "\n",
        "\n",
        "\n",
        "\n",
        "\n",
        "\n",
        "\n",
        "\n",
        "\n",
        "\n",
        "\n",
        "\n",
        "\n",
        "\n",
        "\n",
        "\n"
      ],
      "execution_count": 0,
      "outputs": []
    },
    {
      "metadata": {
        "id": "ETiqCo3LRKa8",
        "colab_type": "text"
      },
      "cell_type": "markdown",
      "source": [
        "This time, let's plot the function we want to integrate and compare it with the approximation used in the numerical integral. This will give us a sense of the error on the integral. Let's use a function for this that changes significantly, like \n",
        "\n",
        "$$f(x) = \\cos(x^2)\\,.$$ \n",
        "\n",
        "If you integrate this function from zero to $2\\pi$, it turns out that the answer is around 0.704682.\n",
        "\n",
        "We'll plot this with the `lineplot` function from `seaborn`."
      ]
    },
    {
      "metadata": {
        "id": "YfTJPfSbRKa9",
        "colab_type": "code",
        "colab": {}
      },
      "cell_type": "code",
      "source": [
        "def f(x):\n",
        "    return np.cos(x**2)"
      ],
      "execution_count": 0,
      "outputs": []
    },
    {
      "metadata": {
        "id": "qunR96QcRKbA",
        "colab_type": "code",
        "colab": {
          "base_uri": "https://localhost:8080/",
          "height": 287
        },
        "outputId": "0ffba493-082b-42d8-f33c-08aa8943def5"
      },
      "cell_type": "code",
      "source": [
        "import seaborn as sns\n",
        "\n",
        "# lineplot requires an array of x and y indices to make the plot\n",
        "\n",
        "x = np.arange(0, 2*np.pi, 0.01)# fill this in\n",
        "y = f(x) # fill this in\n",
        "\n",
        "sns.lineplot(x, y) # plot the function"
      ],
      "execution_count": 17,
      "outputs": [
        {
          "output_type": "execute_result",
          "data": {
            "text/plain": [
              "<matplotlib.axes._subplots.AxesSubplot at 0x7f1e1f6da668>"
            ]
          },
          "metadata": {
            "tags": []
          },
          "execution_count": 17
        },
        {
          "output_type": "display_data",
          "data": {
            "image/png": "[encoded data removed]",
            "text/plain": [
              "<Figure size 432x288 with 1 Axes>"
            ]
          },
          "metadata": {
            "tags": []
          }
        }
      ]
    },
    {
      "metadata": {
        "id": "SCMIiG4BRKbC",
        "colab_type": "code",
        "colab": {
          "base_uri": "https://localhost:8080/",
          "height": 287
        },
        "outputId": "b8e1f421-1007-4ee0-fd7d-1a2afa495c79"
      },
      "cell_type": "code",
      "source": [
        "# what does the trapezoidal approximation look like?\n",
        "\n",
        "a = 0\n",
        "b = 2 * np.pi\n",
        "n_points = 50\n",
        "\n",
        "x_trapezoidal = np.arange(0, 2*np.pi, 2*np.pi/n_points)# fill this in\n",
        "y_trapezoidal = f(x_trapezoidal) # fill this in\n",
        "\n",
        "sns.lineplot(x_trapezoidal, y_trapezoidal) # plot the trapezoidal approximation\n",
        "\n",
        "# what does the trapezoidal integral give in this case?\n",
        "\n",
        "print('With n_points = %d, the trapezoidal approximation gives %lf' % \n",
        "      (n_points, integrate_trapezoidal(f, a, b, n_points)))"
      ],
      "execution_count": 26,
      "outputs": [
        {
          "output_type": "stream",
          "text": [
            "With n_points = 50, the trapezoidal approximation gives 0.687782\n"
          ],
          "name": "stdout"
        },
        {
          "output_type": "display_data",
          "data": {
            "image/png": "[encoded data removed]",
            "text/plain": [
              "<Figure size 432x288 with 1 Axes>"
            ]
          },
          "metadata": {
            "tags": []
          }
        }
      ]
    },
    {
      "metadata": {
        "id": "Q6BHqm3QRKbF",
        "colab_type": "code",
        "colab": {}
      },
      "cell_type": "code",
      "source": [
        ""
      ],
      "execution_count": 0,
      "outputs": []
    },
    {
      "metadata": {
        "id": "I99ixxbNRKbI",
        "colab_type": "code",
        "colab": {}
      },
      "cell_type": "code",
      "source": [
        "\n",
        "\n",
        "\n",
        "\n",
        "\n",
        "\n",
        "\n",
        "\n",
        "\n",
        "\n",
        "\n",
        "\n",
        "\n",
        "\n",
        "\n",
        "\n",
        "\n",
        "\n",
        "\n",
        "\n",
        "\n",
        "\n"
      ],
      "execution_count": 0,
      "outputs": []
    },
    {
      "metadata": {
        "id": "ml-U-EEERKbO",
        "colab_type": "text"
      },
      "cell_type": "markdown",
      "source": [
        "Plotting for Simpson's rule is a little bit more complicated because we need to estimate the quadratic function on each set of intervals, so to save time I've coded this out already."
      ]
    },
    {
      "metadata": {
        "id": "jMOPyAD4RKbP",
        "colab_type": "code",
        "colab": {
          "base_uri": "https://localhost:8080/",
          "height": 269
        },
        "outputId": "4ad76629-1c5e-4746-d0a1-9c0639a1ae36"
      },
      "cell_type": "code",
      "source": [
        "def simpson_a(f, x, dx):\n",
        "    return (f(x-dx) - (2*f(x)) + f(x+dx)) / (2 * dx**2)\n",
        "\n",
        "def simpson_b(f, x, dx):\n",
        "    return (f(x+dx) - f(x-dx)) / (2 * dx)\n",
        "\n",
        "def simpson_c(f, x, dx):\n",
        "    return f(x)\n",
        "\n",
        "\n",
        "a = 0\n",
        "b = 2 * np.pi\n",
        "n_points = 50\n",
        "\n",
        "dx = (b - a) / float(n_points)\n",
        "x  = np.arange(a, b, dx)\n",
        "\n",
        "for i in range(1, len(x), 2): # run over all _odd_ integers!\n",
        "    A = simpson_a(f, x[i], dx)\n",
        "    B = simpson_b(f, x[i], dx)\n",
        "    C = simpson_c(f, x[i], dx)\n",
        "    \n",
        "    xx = np.arange(x[i]-dx, x[i]+dx, 0.01)\n",
        "    yy = (A * ((xx-x[i])**2)) + (B * (xx-x[i])) + C  # remember, expansion _around x[i]_!\n",
        "    \n",
        "    sns.lineplot(xx, yy, color='b')"
      ],
      "execution_count": 27,
      "outputs": [
        {
          "output_type": "display_data",
          "data": {
            "image/png": "[encoded data removed]",
            "text/plain": [
              "<Figure size 432x288 with 1 Axes>"
            ]
          },
          "metadata": {
            "tags": []
          }
        }
      ]
    },
    {
      "metadata": {
        "id": "PiKY93A5RKbS",
        "colab_type": "code",
        "colab": {
          "base_uri": "https://localhost:8080/",
          "height": 35
        },
        "outputId": "dcc12c24-bb88-48d2-9c65-6d4844629e17"
      },
      "cell_type": "code",
      "source": [
        "# what does the integral with Simpson's rule give in this case?\n",
        "\n",
        "print(\"With n_points = %d, Simpson's rule gives %lf\" % (n_points, integrate_simpson(f, a, b, n_points)))"
      ],
      "execution_count": 28,
      "outputs": [
        {
          "output_type": "stream",
          "text": [
            "With n_points = 50, Simpson's rule gives 0.708500\n"
          ],
          "name": "stdout"
        }
      ]
    },
    {
      "metadata": {
        "id": "KW_lhc9ARKbU",
        "colab_type": "code",
        "colab": {}
      },
      "cell_type": "code",
      "source": [
        "\n",
        "\n",
        "\n",
        "\n",
        "\n",
        "\n",
        "\n",
        "\n",
        "\n",
        "\n",
        "\n",
        "\n",
        "\n",
        "\n",
        "\n",
        "\n",
        "\n",
        "\n",
        "\n",
        "\n",
        "\n",
        "\n"
      ],
      "execution_count": 0,
      "outputs": []
    },
    {
      "metadata": {
        "id": "qbuzEfN5RKbX",
        "colab_type": "text"
      },
      "cell_type": "markdown",
      "source": [
        "Now, we can try checking the timing. How does the running time depend on the number of steps?"
      ]
    },
    {
      "metadata": {
        "id": "c9ZNy_SNRKbX",
        "colab_type": "code",
        "colab": {}
      },
      "cell_type": "code",
      "source": [
        "import time as ti\n",
        "start_time = ti.time()\n",
        "\n",
        "# integrate the function\n",
        "\n",
        "# print the run time and the error"
      ],
      "execution_count": 0,
      "outputs": []
    },
    {
      "metadata": {
        "id": "GcGgmkXNRKbb",
        "colab_type": "code",
        "colab": {}
      },
      "cell_type": "code",
      "source": [
        ""
      ],
      "execution_count": 0,
      "outputs": []
    }
  ]
}